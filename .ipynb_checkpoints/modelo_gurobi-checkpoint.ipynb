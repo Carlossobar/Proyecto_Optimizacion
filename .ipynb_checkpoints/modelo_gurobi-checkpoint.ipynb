{
 "cells": [
  {
   "cell_type": "markdown",
   "id": "aa0c0a8f",
   "metadata": {},
   "source": [
    "# 📈 Modelo de Optimización con Gurobi\n",
    "Este notebook resuelve el problema de asignación de horas a proyectos usando programación lineal con Gurobi."
   ]
  },
  {
   "cell_type": "code",
   "execution_count": null,
   "id": "03fd6b07",
   "metadata": {},
   "outputs": [],
   "source": [
    "from gurobipy import Model, GRB, quicksum"
   ]
  },
  {
   "cell_type": "code",
   "execution_count": null,
   "id": "a44294b1",
   "metadata": {},
   "outputs": [],
   "source": [
    "# === Datos de entrada ===\n",
    "trabajadores = ['Juan', 'Pedro', 'María', 'Luciana', 'Claudia']\n",
    "proyectos = ['Rangekuta', 'Tripamonti', 'Omega', 'Villa Zeckers']\n",
    "\n",
    "h = {'Juan': 10, 'Pedro': 10, 'María': 7, 'Luciana': 15, 'Claudia': 14}\n",
    "l = {'Rangekuta': 6, 'Tripamonti': 10, 'Omega': 7, 'Villa Zeckers': 11}\n",
    "u = {'Rangekuta': 17, 'Tripamonti': 20, 'Omega': 22, 'Villa Zeckers': 22}\n",
    "b = {'Rangekuta': 450, 'Tripamonti': 520, 'Omega': 310, 'Villa Zeckers': 440}\n",
    "a = {'Rangekuta': 80, 'Tripamonti': 130, 'Omega': 70, 'Villa Zeckers': 140}\n",
    "\n",
    "# Costo fijo para todos por ahora\n",
    "c = {(i, j): 30 for i in trabajadores for j in proyectos}"
   ]
  },
  {
   "cell_type": "code",
   "execution_count": null,
   "id": "40372780",
   "metadata": {},
   "outputs": [],
   "source": [
    "# === Modelo ===\n",
    "model = Model(\"Asignación de Horas\")\n",
    "x = model.addVars(trabajadores, proyectos, name=\"x\", lb=0)\n",
    "\n",
    "# Restricciones\n",
    "for i in trabajadores:\n",
    "    model.addConstr(quicksum(x[i, j] for j in proyectos) <= h[i])\n",
    "\n",
    "for j in proyectos:\n",
    "    model.addConstr(quicksum(x[i, j] for i in trabajadores) >= l[j])\n",
    "    model.addConstr(quicksum(x[i, j] for i in trabajadores) <= u[j])\n",
    "    model.addConstr(quicksum(c[i, j] * x[i, j] for i in trabajadores) <= b[j])\n",
    "\n",
    "# Objetivo\n",
    "model.setObjective(\n",
    "    quicksum((a[j] - 0.5 * c[i, j]) * x[i, j] for i in trabajadores for j in proyectos),\n",
    "    GRB.MAXIMIZE\n",
    ")\n",
    "\n",
    "model.optimize()"
   ]
  },
  {
   "cell_type": "code",
   "execution_count": null,
   "id": "bd4ef6c6",
   "metadata": {},
   "outputs": [],
   "source": [
    "# Resultados\n",
    "for i in trabajadores:\n",
    "    for j in proyectos:\n",
    "        if x[i, j].X > 0:\n",
    "            print(f\"{i} trabaja {x[i, j].X:.1f} horas en {j}\")\n",
    "print(f\"\\nIngreso total: {model.ObjVal:.2f}\")"
   ]
  }
 ],
 "metadata": {},
 "nbformat": 4,
 "nbformat_minor": 5
}
