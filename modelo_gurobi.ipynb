{
 "cells": [
  {
   "cell_type": "markdown",
   "id": "aa0c0a8f",
   "metadata": {},
   "source": [
    "# 📈 Modelo de Optimización con Gurobi\n",
    "Este notebook resuelve el problema de asignación de horas a proyectos usando programación lineal con Gurobi."
   ]
  },
  {
   "cell_type": "code",
   "execution_count": 1,
   "id": "03fd6b07",
   "metadata": {},
   "outputs": [],
   "source": [
    "from gurobipy import Model, GRB, quicksum"
   ]
  },
  {
   "cell_type": "code",
   "execution_count": 6,
   "id": "a44294b1",
   "metadata": {},
   "outputs": [],
   "source": [
    "# === Datos de entrada ===\n",
    "trabajadores = ['Juan', 'Pedro', 'María', 'Luciana', 'Claudia', 'Javier', 'Ignacia', 'Lucas', 'Mariana', 'Mateo']\n",
    "proyectos = ['Rangekuta', 'Tripamonti', 'Omega', 'Villa Zeckers', 'Lo Redal', 'Alto Trufen']\n",
    "\n",
    "h = {'Juan': 10, 'Pedro': 10, 'María': 7, 'Luciana': 15, 'Claudia': 14, 'Javier': 20, 'Ignacia': 9,'Lucas': 15, 'Mariana': 10, 'Mateo': 6 }\n",
    "l = {'Rangekuta': 6, 'Tripamonti': 10, 'Omega': 7, 'Villa Zeckers': 11, 'Lo Redal': 9, 'Alto Trufen':  13}\n",
    "u = {'Rangekuta': 17, 'Tripamonti': 20, 'Omega': 22, 'Villa Zeckers': 22, 'Lo Redal': 20, 'Alto Trufen': 28}\n",
    "b = {'Rangekuta': 450, 'Tripamonti': 520, 'Omega': 310, 'Villa Zeckers': 440, 'Lo Redal': 468, 'Alto Trufen': 1170}\n",
    "a = {'Rangekuta': 80, 'Tripamonti': 130, 'Omega': 70, 'Villa Zeckers': 140, 'Lo Redal': 110, 'Alto Trufen': 100}\n",
    "\n",
    "# Costo fijo para todos por ahora\n",
    "c = {(i, j): 30 for i in trabajadores for j in proyectos}"
   ]
  },
  {
   "cell_type": "code",
   "execution_count": 7,
   "id": "40372780",
   "metadata": {},
   "outputs": [
    {
     "name": "stdout",
     "output_type": "stream",
     "text": [
      "Gurobi Optimizer version 12.0.2 build v12.0.2rc0 (mac64[arm] - Darwin 24.5.0 24F74)\n",
      "\n",
      "CPU model: Apple M4\n",
      "Thread count: 10 physical cores, 10 logical processors, using up to 10 threads\n",
      "\n",
      "Optimize a model with 28 rows, 60 columns and 240 nonzeros\n",
      "Model fingerprint: 0x03ad7a4a\n",
      "Coefficient statistics:\n",
      "  Matrix range     [1e+00, 3e+01]\n",
      "  Objective range  [6e+01, 1e+02]\n",
      "  Bounds range     [0e+00, 0e+00]\n",
      "  RHS range        [6e+00, 1e+03]\n",
      "Presolve removed 12 rows and 0 columns\n",
      "Presolve time: 0.00s\n",
      "Presolved: 16 rows, 66 columns, 126 nonzeros\n",
      "\n",
      "Iteration    Objective       Primal Inf.    Dual Inf.      Time\n",
      "       0    9.2320000e+03   5.660188e+02   0.000000e+00      0s\n",
      "      22    9.2320000e+03   0.000000e+00   0.000000e+00      0s\n",
      "\n",
      "Solved in 22 iterations and 0.00 seconds (0.00 work units)\n",
      "Optimal objective  9.232000000e+03\n"
     ]
    }
   ],
   "source": [
    "# === Modelo ===\n",
    "model = Model(\"Asignación de Horas\")\n",
    "x = model.addVars(trabajadores, proyectos, name=\"x\", lb=0)\n",
    "\n",
    "# Restricciones\n",
    "for i in trabajadores:\n",
    "    model.addConstr(quicksum(x[i, j] for j in proyectos) <= h[i])\n",
    "\n",
    "for j in proyectos:\n",
    "    model.addConstr(quicksum(x[i, j] for i in trabajadores) >= l[j])\n",
    "    model.addConstr(quicksum(x[i, j] for i in trabajadores) <= u[j])\n",
    "    model.addConstr(quicksum(c[i, j] * x[i, j] for i in trabajadores) <= b[j])\n",
    "\n",
    "# Objetivo\n",
    "model.setObjective(\n",
    "    quicksum((a[j] - 0.5 * c[i, j]) * x[i, j] for i in trabajadores for j in proyectos),\n",
    "    GRB.MAXIMIZE\n",
    ")\n",
    "\n",
    "model.optimize()"
   ]
  },
  {
   "cell_type": "code",
   "execution_count": 8,
   "id": "bd4ef6c6",
   "metadata": {},
   "outputs": [
    {
     "name": "stdout",
     "output_type": "stream",
     "text": [
      "Pedro trabaja 10.0 horas en Alto Trufen\n",
      "María trabaja 7.0 horas en Alto Trufen\n",
      "Luciana trabaja 14.7 horas en Villa Zeckers\n",
      "Luciana trabaja 0.3 horas en Lo Redal\n",
      "Claudia trabaja 14.0 horas en Tripamonti\n",
      "Javier trabaja 15.0 horas en Rangekuta\n",
      "Ignacia trabaja 9.0 horas en Omega\n",
      "Lucas trabaja 9.9 horas en Lo Redal\n",
      "Lucas trabaja 5.0 horas en Alto Trufen\n",
      "Mariana trabaja 3.3 horas en Tripamonti\n",
      "Mariana trabaja 1.3 horas en Omega\n",
      "Mariana trabaja 5.3 horas en Lo Redal\n",
      "Mateo trabaja 6.0 horas en Alto Trufen\n",
      "\n",
      "Ingreso total: 9232.00\n"
     ]
    }
   ],
   "source": [
    "# Resultados\n",
    "for i in trabajadores:\n",
    "    for j in proyectos:\n",
    "        if x[i, j].X > 0:\n",
    "            print(f\"{i} trabaja {x[i, j].X:.1f} horas en {j}\")\n",
    "print(f\"\\nIngreso total: {model.ObjVal:.2f}\")"
   ]
  },
  {
   "cell_type": "code",
   "execution_count": null,
   "id": "8f1be43a-6d87-4a82-bf68-7ce5d8d008bd",
   "metadata": {},
   "outputs": [],
   "source": []
  }
 ],
 "metadata": {
  "kernelspec": {
   "display_name": "Python 3 (ipykernel)",
   "language": "python",
   "name": "python3"
  },
  "language_info": {
   "codemirror_mode": {
    "name": "ipython",
    "version": 3
   },
   "file_extension": ".py",
   "mimetype": "text/x-python",
   "name": "python",
   "nbconvert_exporter": "python",
   "pygments_lexer": "ipython3",
   "version": "3.10.16"
  }
 },
 "nbformat": 4,
 "nbformat_minor": 5
}
